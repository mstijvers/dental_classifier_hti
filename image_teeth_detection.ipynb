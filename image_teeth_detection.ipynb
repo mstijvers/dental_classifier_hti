{
 "cells": [
  {
   "cell_type": "code",
   "execution_count": 1,
   "id": "initial_id",
   "metadata": {
    "collapsed": true,
    "ExecuteTime": {
     "end_time": "2023-10-12T09:09:26.249886Z",
     "start_time": "2023-10-12T09:09:25.783546Z"
    }
   },
   "outputs": [
    {
     "ename": "RuntimeError",
     "evalue": "Unable to open shape_predictor_68_face_landmarks.dat",
     "output_type": "error",
     "traceback": [
      "\u001B[0;31m---------------------------------------------------------------------------\u001B[0m",
      "\u001B[0;31mRuntimeError\u001B[0m                              Traceback (most recent call last)",
      "Cell \u001B[0;32mIn[1], line 6\u001B[0m\n\u001B[1;32m      4\u001B[0m \u001B[38;5;66;03m# Load the detector and predictor\u001B[39;00m\n\u001B[1;32m      5\u001B[0m detector \u001B[38;5;241m=\u001B[39m dlib\u001B[38;5;241m.\u001B[39mget_frontal_face_detector()\n\u001B[0;32m----> 6\u001B[0m predictor \u001B[38;5;241m=\u001B[39m \u001B[43mdlib\u001B[49m\u001B[38;5;241;43m.\u001B[39;49m\u001B[43mshape_predictor\u001B[49m\u001B[43m(\u001B[49m\u001B[38;5;124;43m'\u001B[39;49m\u001B[38;5;124;43mshape_predictor_68_face_landmarks.dat\u001B[39;49m\u001B[38;5;124;43m'\u001B[39;49m\u001B[43m)\u001B[49m\n\u001B[1;32m      8\u001B[0m \u001B[38;5;66;03m# Read the image\u001B[39;00m\n\u001B[1;32m      9\u001B[0m img \u001B[38;5;241m=\u001B[39m cv2\u001B[38;5;241m.\u001B[39mimread(\u001B[38;5;124m'\u001B[39m\u001B[38;5;124m../static/images/cropped_mouth.jpg\u001B[39m\u001B[38;5;124m'\u001B[39m)\n",
      "\u001B[0;31mRuntimeError\u001B[0m: Unable to open shape_predictor_68_face_landmarks.dat"
     ]
    }
   ],
   "source": [
    "import cv2\n",
    "import dlib\n",
    "\n",
    "# Load the detector and predictor\n",
    "detector = dlib.get_frontal_face_detector()\n",
    "predictor = dlib.shape_predictor('shape_predictor_68_face_landmarks.dat')\n",
    "\n",
    "# Read the image\n",
    "img = cv2.imread('../static/images/cropped_mouth.jpg')\n",
    "gray = cv2.cvtColor(img, cv2.COLOR_BGR2GRAY)\n",
    "\n",
    "# Detect faces\n",
    "faces = detector(gray)\n",
    "print(len(faces) == 0)\n",
    "for face in faces:\n",
    "    # Get landmarks\n",
    "    landmarks = predictor(gray, face)\n",
    "    # Extract mouth landmarks\n",
    "    mouth_landmarks = []\n",
    "    for i in range(48, 68):  # Mouth landmarks are indexed from 48 to 67 in dlib\n",
    "        x, y = landmarks.part(i).x, landmarks.part(i).y\n",
    "        mouth_landmarks.append((x, y))\n",
    "\n",
    "    # Calculate the bounding box around the mouth\n",
    "    min_x = min(mouth_landmarks, key=lambda x: x[0])[0]\n",
    "    max_x = max(mouth_landmarks, key=lambda x: x[0])[0]\n",
    "    min_y = min(mouth_landmarks, key=lambda x: x[1])[1]\n",
    "    max_y = max(mouth_landmarks, key=lambda x: x[1])[1]\n",
    "\n",
    "    # Draw the bounding box around the mouth\n",
    "    cv2.rectangle(img, (min_x, min_y), (max_x, max_y), (0, 255, 0), 2)\n",
    "\n",
    "cv2.imshow('image', img)\n",
    "cv2.waitKey(0)\n",
    "cv2.destroyAllWindows()\n",
    "\n"
   ]
  },
  {
   "cell_type": "code",
   "execution_count": null,
   "outputs": [],
   "source": [],
   "metadata": {
    "collapsed": false,
    "ExecuteTime": {
     "end_time": "2023-09-28T21:20:42.972145Z",
     "start_time": "2023-09-28T21:20:42.970002Z"
    }
   },
   "id": "bcfe330647841d32"
  },
  {
   "cell_type": "code",
   "execution_count": null,
   "outputs": [],
   "source": [],
   "metadata": {
    "collapsed": false
   },
   "id": "778933bde87f1625"
  }
 ],
 "metadata": {
  "kernelspec": {
   "display_name": "Python 3",
   "language": "python",
   "name": "python3"
  },
  "language_info": {
   "codemirror_mode": {
    "name": "ipython",
    "version": 2
   },
   "file_extension": ".py",
   "mimetype": "text/x-python",
   "name": "python",
   "nbconvert_exporter": "python",
   "pygments_lexer": "ipython2",
   "version": "2.7.6"
  }
 },
 "nbformat": 4,
 "nbformat_minor": 5
}
