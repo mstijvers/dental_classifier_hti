{
 "cells": [
  {
   "cell_type": "code",
   "execution_count": 2,
   "id": "initial_id",
   "metadata": {
    "collapsed": true,
    "ExecuteTime": {
     "end_time": "2023-09-29T07:28:43.228087Z",
     "start_time": "2023-09-29T07:28:39.773430Z"
    }
   },
   "outputs": [
    {
     "name": "stdout",
     "output_type": "stream",
     "text": [
      "Error: Could not read frame from the camera.\n"
     ]
    },
    {
     "ename": "error",
     "evalue": "OpenCV(4.8.1) /Users/xperience/GHA-OpenCV-Python/_work/opencv-python/opencv-python/opencv/modules/imgproc/src/color.cpp:182: error: (-215:Assertion failed) !_src.empty() in function 'cvtColor'\n",
     "output_type": "error",
     "traceback": [
      "\u001B[0;31m---------------------------------------------------------------------------\u001B[0m",
      "\u001B[0;31merror\u001B[0m                                     Traceback (most recent call last)",
      "Cell \u001B[0;32mIn[2], line 34\u001B[0m\n\u001B[1;32m     31\u001B[0m ret, frame \u001B[38;5;241m=\u001B[39m cap\u001B[38;5;241m.\u001B[39mread()\n\u001B[1;32m     33\u001B[0m \u001B[38;5;66;03m# Convert the frame to grayscale for face detection\u001B[39;00m\n\u001B[0;32m---> 34\u001B[0m gray \u001B[38;5;241m=\u001B[39m \u001B[43mcv2\u001B[49m\u001B[38;5;241;43m.\u001B[39;49m\u001B[43mcvtColor\u001B[49m\u001B[43m(\u001B[49m\u001B[43mframe\u001B[49m\u001B[43m,\u001B[49m\u001B[43m \u001B[49m\u001B[43mcv2\u001B[49m\u001B[38;5;241;43m.\u001B[39;49m\u001B[43mCOLOR_BGR2GRAY\u001B[49m\u001B[43m)\u001B[49m\n\u001B[1;32m     36\u001B[0m \u001B[38;5;66;03m# Detect faces in the grayscale frame\u001B[39;00m\n\u001B[1;32m     37\u001B[0m faces \u001B[38;5;241m=\u001B[39m face_detector(gray)\n",
      "\u001B[0;31merror\u001B[0m: OpenCV(4.8.1) /Users/xperience/GHA-OpenCV-Python/_work/opencv-python/opencv-python/opencv/modules/imgproc/src/color.cpp:182: error: (-215:Assertion failed) !_src.empty() in function 'cvtColor'\n"
     ]
    }
   ],
   "source": [
    "import cv2\n",
    "import dlib\n",
    "\n",
    "# Load the detector and predictor\n",
    "detector = dlib.get_frontal_face_detector()\n",
    "predictor = dlib.shape_predictor('shape_predictor_68_face_landmarks.dat')\n",
    "\n",
    "# Read the image\n",
    "img = cv2.imread('marijn_smile.jpg')\n",
    "gray = cv2.cvtColor(img, cv2.COLOR_BGR2GRAY)\n",
    "\n",
    "# Detect faces\n",
    "faces = detector(gray)\n",
    "print(len(faces) == 0)\n",
    "for face in faces:\n",
    "    # Get landmarks\n",
    "    landmarks = predictor(gray, face)\n",
    "    # Extract mouth landmarks\n",
    "    mouth_landmarks = []\n",
    "    for i in range(48, 68):  # Mouth landmarks are indexed from 48 to 67 in dlib\n",
    "        x, y = landmarks.part(i).x, landmarks.part(i).y\n",
    "        mouth_landmarks.append((x, y))\n",
    "\n",
    "    # Calculate the bounding box around the mouth\n",
    "    min_x = min(mouth_landmarks, key=lambda x: x[0])[0]\n",
    "    max_x = max(mouth_landmarks, key=lambda x: x[0])[0]\n",
    "    min_y = min(mouth_landmarks, key=lambda x: x[1])[1]\n",
    "    max_y = max(mouth_landmarks, key=lambda x: x[1])[1]\n",
    "\n",
    "    # Draw the bounding box around the mouth\n",
    "    cv2.rectangle(img, (min_x, min_y), (max_x, max_y), (0, 255, 0), 2)\n",
    "\n",
    "cv2.imshow('image', img)\n",
    "cv2.waitKey(0)\n",
    "cv2.destroyAllWindows()\n",
    "\n"
   ]
  },
  {
   "cell_type": "code",
   "execution_count": null,
   "outputs": [],
   "source": [],
   "metadata": {
    "collapsed": false,
    "ExecuteTime": {
     "end_time": "2023-09-28T21:20:42.972145Z",
     "start_time": "2023-09-28T21:20:42.970002Z"
    }
   },
   "id": "bcfe330647841d32"
  },
  {
   "cell_type": "code",
   "execution_count": null,
   "outputs": [],
   "source": [],
   "metadata": {
    "collapsed": false
   },
   "id": "778933bde87f1625"
  }
 ],
 "metadata": {
  "kernelspec": {
   "display_name": "Python 3",
   "language": "python",
   "name": "python3"
  },
  "language_info": {
   "codemirror_mode": {
    "name": "ipython",
    "version": 2
   },
   "file_extension": ".py",
   "mimetype": "text/x-python",
   "name": "python",
   "nbconvert_exporter": "python",
   "pygments_lexer": "ipython2",
   "version": "2.7.6"
  }
 },
 "nbformat": 4,
 "nbformat_minor": 5
}
