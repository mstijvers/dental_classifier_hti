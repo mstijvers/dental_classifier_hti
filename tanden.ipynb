{
 "cells": [
  {
   "cell_type": "code",
   "execution_count": 27,
   "outputs": [],
   "source": [
    "import os\n",
    "from torchvision import transforms\n",
    "from torch.utils.data import DataLoader, TensorDataset, ConcatDataset\n",
    "import torch\n",
    "import cv2\n",
    "#for calling one image\n",
    "from PIL import Image"
   ],
   "metadata": {
    "collapsed": false,
    "ExecuteTime": {
     "end_time": "2023-09-26T09:27:17.148042Z",
     "start_time": "2023-09-26T09:27:17.145566Z"
    }
   }
  },
  {
   "cell_type": "code",
   "execution_count": 38,
   "outputs": [
    {
     "name": "stdout",
     "output_type": "stream",
     "text": [
      "torch.Size([2349, 3, 224, 224]) torch.Size([1251, 3, 224, 224]) torch.Size([183, 3, 224, 224]) torch.Size([219, 3, 224, 224]) torch.Size([1296, 3, 224, 224])\n"
     ]
    }
   ],
   "source": [
    "# Define a transform. Modify this based on your model's needs\n",
    "transform = transforms.Compose([\n",
    "    transforms.ToTensor(),               # Convert the PIL Image to a PyTorch tensor\n",
    "    transforms.Resize((224, 224)),      # Resize to the size expected by your model (e.g., 224x224 for many pre-trained models)\n",
    "    # transforms.Normalize(mean, std)   # If your model expects normalized data, add this line with the appropriate mean and std\n",
    "])\n",
    "\n",
    "def load_images_from_folder(folder):\n",
    "    images = []\n",
    "    for filename in os.listdir(folder):\n",
    "        img = cv2.imread(os.path.join(folder,filename))\n",
    "        if img is not None:\n",
    "            images.append(transform(img))\n",
    "            \n",
    "    # Convert list of tensors to a single tensor (batch)\n",
    "    images_tensor = torch.stack(images)\n",
    "    return images_tensor\n",
    "\n",
    "\n",
    "# Load images\n",
    "folder_path = './dentalclassifier/Dentaldata/Gingivitis/Gingivitis'\n",
    "gingivitus = load_images_from_folder(folder_path)\n",
    "\n",
    "folder_path = './dentalclassifier/Dentaldata/hypodontia/hypodontia'\n",
    "hypodontia = load_images_from_folder(folder_path)\n",
    "\n",
    "folder_path = './dentalclassifier/Dentaldata/Datacaries/Datacaries/cariesoriginal/done'\n",
    "caries = load_images_from_folder(folder_path)\n",
    "\n",
    "folder_path = './dentalclassifier/Dentaldata/discoloration/discolorationoriginal/original'\n",
    "discoloration = load_images_from_folder(folder_path)\n",
    "\n",
    "folder_path = './dentalclassifier/Dentaldata/Calculus/Calculus'\n",
    "calculus = load_images_from_folder(folder_path)\n",
    "\n",
    "print(gingivitus.shape, hypodontia.shape, discoloration.shape, caries.shape, calculus.shape)  # Expected shape: [num_images, 3, 224, 224] assuming 3-channel (RGB) images resized to 224x224\n"
   ],
   "metadata": {
    "collapsed": false,
    "ExecuteTime": {
     "end_time": "2023-09-26T15:43:55.179813Z",
     "start_time": "2023-09-26T15:43:43.732616Z"
    }
   }
  },
  {
   "cell_type": "code",
   "execution_count": 8,
   "outputs": [],
   "source": [
    "# combine tensors\n",
    "\n",
    "# Create labels for the two datasets\n",
    "gingivitis_labels = torch.tensor([0] * len(gingivitus))  # Label 0 for gingivitis\n",
    "hypodontia_labels = torch.tensor([1] * len(hypodontia))  # Label 1 for hypodontia\n",
    "discoloration_labels = torch.tensor([2] * len(discoloration))  # Label 2 for discoloration\n",
    "caries_labels = torch.tensor([3] * len(caries))  # Label 3 for discoloration\n",
    "calculus_labels = torch.tensor([4] * len(calculus   ))  # Label 4 for discoloration\n",
    "\n",
    "# Create a new label for the group: 0 for gingivitis, 1 for hypodontia\n",
    "group_labels = torch.cat((gingivitis_labels, hypodontia_labels, discoloration_labels, caries_labels, calculus_labels), dim=0)\n",
    "\n",
    "# Combine the image tensors and labels into a single dataset\n",
    "combined_images = torch.cat((gingivitus, hypodontia, discoloration, caries, calculus), dim=0)\n",
    "dataset = TensorDataset(combined_images, group_labels)\n"
   ],
   "metadata": {
    "collapsed": false,
    "ExecuteTime": {
     "end_time": "2023-09-26T08:45:51.360283Z",
     "start_time": "2023-09-26T08:45:49.332201Z"
    }
   }
  },
  {
   "cell_type": "code",
   "execution_count": 20,
   "outputs": [],
   "source": [
    "from torch.utils.data import random_split\n",
    "\n",
    "# create train and test set\n",
    "\n",
    "# Define the sizes for your train, validation, and test sets (e.g., 70%, 15%, 15%)\n",
    "dataset_size = len(dataset)\n",
    "train_size = int(0.7 * dataset_size)\n",
    "val_size = int(0.15 * dataset_size)\n",
    "test_size = dataset_size - train_size - val_size\n",
    "\n",
    "# Split the dataset into train, validation, and test sets\n",
    "train_dataset, val_dataset, test_dataset = random_split(\n",
    "    dataset, [train_size, val_size, test_size]\n",
    ")\n",
    "\n",
    "# Create DataLoaders for each split\n",
    "batch_size = 64  # Adjust as needed\n",
    "train_dataloader = DataLoader(train_dataset, batch_size=batch_size, shuffle=True)\n",
    "val_dataloader = DataLoader(val_dataset, batch_size=batch_size, shuffle=False)\n",
    "test_dataloader = DataLoader(test_dataset, batch_size=batch_size, shuffle=False)"
   ],
   "metadata": {
    "collapsed": false,
    "ExecuteTime": {
     "end_time": "2023-09-26T09:08:15.561717Z",
     "start_time": "2023-09-26T09:08:15.549931Z"
    }
   }
  },
  {
   "cell_type": "code",
   "execution_count": 36,
   "outputs": [],
   "source": [
    "# create model \n",
    "import torch.nn as nn\n",
    "from tanden import SimpleCNN\n",
    "\n",
    "# Initialize the model\n",
    "num_classes = 5  # Five classes: gingivitis, hypodontia, discoloration, caries, calculus\n",
    "model = SimpleCNN(num_classes)\n",
    "\n",
    "\n",
    "# Define a loss function and optimizer\n",
    "criterion = nn.CrossEntropyLoss()\n",
    "optimizer = torch.optim.Adam(model.parameters(), lr=0.001)"
   ],
   "metadata": {
    "collapsed": false,
    "ExecuteTime": {
     "end_time": "2023-09-26T14:11:55.735256Z",
     "start_time": "2023-09-26T14:11:55.616686Z"
    }
   }
  },
  {
   "cell_type": "code",
   "execution_count": 22,
   "outputs": [],
   "source": [
    "# Training and Validation Loop\n",
    "num_epochs = 10  # Adjust as needed\n",
    "def train_model(model, train_loader, val_loader, criterion, optimizer, num_epochs=num_epochs):\n",
    "    device = torch.device(\"cuda:0\" if torch.cuda.is_available() else \"cpu\")\n",
    "    model.to(device)\n",
    "    \n",
    "    for epoch in range(num_epochs):\n",
    "        model.train()  # Set the model to training mode\n",
    "        running_loss = 0.0\n",
    "        \n",
    "        for inputs, labels in train_loader:\n",
    "            inputs, labels = inputs.to(device), labels.to(device)\n",
    "            \n",
    "            # Zero the parameter gradients\n",
    "            optimizer.zero_grad()\n",
    "            \n",
    "            # Forward pass\n",
    "            outputs = model(inputs)\n",
    "            \n",
    "            # Calculate the loss\n",
    "            loss = criterion(outputs, labels)\n",
    "            \n",
    "            # Backward pass and optimization\n",
    "            loss.backward()\n",
    "            optimizer.step()\n",
    "            \n",
    "            running_loss += loss.item()\n",
    "        \n",
    "        # Calculate training loss for the epoch\n",
    "        train_loss = running_loss / len(train_loader)\n",
    "        \n",
    "        # Validation\n",
    "        model.eval()  # Set the model to evaluation mode\n",
    "        val_loss = 0.0\n",
    "        correct = 0\n",
    "        total = 0\n",
    "        \n",
    "        with torch.no_grad():\n",
    "            for inputs, labels in val_loader:\n",
    "                inputs, labels = inputs.to(device), labels.to(device)\n",
    "                outputs = model(inputs)\n",
    "                loss = criterion(outputs, labels)\n",
    "                val_loss += loss.item()\n",
    "                _, predicted = torch.max(outputs.data, 1)\n",
    "                total += labels.size(0)\n",
    "                correct += (predicted == labels).sum().item()\n",
    "        \n",
    "        # Calculate validation loss and accuracy for the epoch\n",
    "        val_loss = val_loss / len(val_loader)\n",
    "        val_accuracy = 100 * correct / total\n",
    "        \n",
    "        print(f\"Epoch [{epoch+1}/{num_epochs}] - Train Loss: {train_loss:.4f} - Val Loss: {val_loss:.4f} - Val Acc: {val_accuracy:.2f}%\")\n",
    "\n",
    "# Example usage:\n",
    "# Assuming you have 'train_dataloader' for training and 'val_dataloader' for validation\n",
    "# train_model(model, train_dataloader, val_dataloader, criterion, optimizer, num_epochs=10)\n"
   ],
   "metadata": {
    "collapsed": false,
    "ExecuteTime": {
     "end_time": "2023-09-26T09:08:23.221939Z",
     "start_time": "2023-09-26T09:08:23.217705Z"
    }
   }
  },
  {
   "cell_type": "code",
   "execution_count": 23,
   "outputs": [],
   "source": [
    "# Test Loop\n",
    "def test_model(model, test_loader):\n",
    "    device = torch.device(\"cuda:0\" if torch.cuda.is_available() else \"cpu\")\n",
    "    model.eval()  # Set the model to evaluation mode\n",
    "    test_loss = 0.0\n",
    "    correct = 0\n",
    "    total = 0\n",
    "    \n",
    "    with torch.no_grad():\n",
    "        for inputs, labels in test_loader:\n",
    "            inputs, labels = inputs.to(device), labels.to(device)\n",
    "            outputs = model(inputs)\n",
    "            loss = criterion(outputs, labels)\n",
    "            test_loss += loss.item()\n",
    "            _, predicted = torch.max(outputs.data, 1)\n",
    "            total += labels.size(0)\n",
    "            correct += (predicted == labels).sum().item()\n",
    "    \n",
    "    # Calculate test loss and accuracy\n",
    "    test_loss = test_loss / len(test_loader)\n",
    "    test_accuracy = 100 * correct / total\n",
    "    \n",
    "    print(f\"Test Loss: {test_loss:.4f} - Test Accuracy: {test_accuracy:.2f}%\")\n",
    "\n",
    "# Example usage:\n",
    "# Assuming you have 'test_dataloader' for testing\n",
    "# test_model(model, test_dataloader)\n"
   ],
   "metadata": {
    "collapsed": false,
    "ExecuteTime": {
     "end_time": "2023-09-26T09:08:24.803813Z",
     "start_time": "2023-09-26T09:08:24.800128Z"
    }
   }
  },
  {
   "cell_type": "code",
   "execution_count": 24,
   "outputs": [
    {
     "name": "stdout",
     "output_type": "stream",
     "text": [
      "Epoch [1/10] - Train Loss: 1.4788 - Val Loss: 0.9789 - Val Acc: 60.83%\n",
      "Epoch [2/10] - Train Loss: 0.9498 - Val Loss: 0.8846 - Val Acc: 65.37%\n",
      "Epoch [3/10] - Train Loss: 0.8116 - Val Loss: 0.8093 - Val Acc: 67.51%\n",
      "Epoch [4/10] - Train Loss: 0.7044 - Val Loss: 0.6833 - Val Acc: 72.54%\n",
      "Epoch [5/10] - Train Loss: 0.5908 - Val Loss: 0.6507 - Val Acc: 73.05%\n",
      "Epoch [6/10] - Train Loss: 0.5157 - Val Loss: 0.7012 - Val Acc: 72.29%\n",
      "Epoch [7/10] - Train Loss: 0.4267 - Val Loss: 0.7182 - Val Acc: 70.91%\n",
      "Epoch [8/10] - Train Loss: 0.3817 - Val Loss: 0.7586 - Val Acc: 75.06%\n",
      "Epoch [9/10] - Train Loss: 0.3273 - Val Loss: 0.7253 - Val Acc: 73.30%\n",
      "Epoch [10/10] - Train Loss: 0.2940 - Val Loss: 0.6838 - Val Acc: 73.43%\n",
      "Test Loss: 0.8045 - Test Accuracy: 72.49%\n"
     ]
    }
   ],
   "source": [
    "# Train the model using the train_dataloader\n",
    "train_model(model, train_dataloader, val_dataloader, criterion, optimizer, num_epochs=num_epochs)\n",
    "\n",
    "# Test the model using the test_dataloader\n",
    "test_model(model, test_dataloader)"
   ],
   "metadata": {
    "collapsed": false,
    "ExecuteTime": {
     "end_time": "2023-09-26T09:23:30.255162Z",
     "start_time": "2023-09-26T09:08:25.664270Z"
    }
   }
  },
  {
   "cell_type": "code",
   "execution_count": 25,
   "outputs": [],
   "source": [
    "# Save the trained model checkpoint\n",
    "checkpoint_path = \"dental_classifier.pth\"\n",
    "torch.save(model.state_dict(), checkpoint_path)"
   ],
   "metadata": {
    "collapsed": false,
    "ExecuteTime": {
     "end_time": "2023-09-26T09:25:34.525683Z",
     "start_time": "2023-09-26T09:25:34.291866Z"
    }
   }
  },
  {
   "cell_type": "code",
   "execution_count": 31,
   "outputs": [
    {
     "name": "stdout",
     "output_type": "stream",
     "text": [
      "Predicted Class: discoloration\n",
      "Confidence Score: 0.99\n"
     ]
    }
   ],
   "source": [
    "# Load the trained model\n",
    "# Uploading one image at the time and getting confidence interval\n",
    "\n",
    "num_classes = 5  # Assuming 5 classes\n",
    "model = SimpleCNN(num_classes)\n",
    "\n",
    "# Load the model's weights (state_dict) from a saved checkpoint file\n",
    "checkpoint_path = \"dental_classifier.pth\"  # Replace with your actual checkpoint file\n",
    "model.load_state_dict(torch.load(checkpoint_path))\n",
    "model.eval()  # Set the model to evaluation mode\n",
    "\n",
    "# Define a transformation for preprocessing the single image\n",
    "transform = transforms.Compose([\n",
    "    transforms.Resize((224, 224)),\n",
    "    transforms.ToTensor(),\n",
    "    # Add other transformations as needed (e.g., normalization)\n",
    "])\n",
    "\n",
    "# Load and preprocess the single image you want to classify\n",
    "image_path = \"/Users/home_folder/Documents/Vakken/HTI/DBM140/dental project/Dentaldata/discoloration/discolorationoriginal/original/5.jpg\"  # Replace with the path to your image\n",
    "img = Image.open(image_path)\n",
    "img = transform(img)\n",
    "img = img.unsqueeze(0)  # Add a batch dimension (single image)\n",
    "\n",
    "# Pass the image through the model\n",
    "with torch.no_grad():\n",
    "    output = model(img)\n",
    "\n",
    "# Apply softmax to obtain class probabilities\n",
    "softmax = nn.Softmax(dim=1)\n",
    "probabilities = softmax(output)\n",
    "\n",
    "# Interpret the model's prediction and confidence scores\n",
    "class_labels = [\"gingivitis\", \"hypodontia\", \"discoloration\", \"caries\", \"calculus\"]\n",
    "predicted_class = class_labels[torch.argmax(probabilities)]\n",
    "confidence_score = torch.max(probabilities).item()\n",
    "\n",
    "print(f\"Predicted Class: {predicted_class}\")\n",
    "print(f\"Confidence Score: {confidence_score:.2f}\")"
   ],
   "metadata": {
    "collapsed": false,
    "ExecuteTime": {
     "end_time": "2023-09-26T09:30:13.329468Z",
     "start_time": "2023-09-26T09:30:13.122552Z"
    }
   }
  },
  {
   "cell_type": "code",
   "execution_count": null,
   "outputs": [],
   "source": [],
   "metadata": {
    "collapsed": false
   }
  }
 ],
 "metadata": {
  "kernelspec": {
   "display_name": "Python 3",
   "language": "python",
   "name": "python3"
  },
  "language_info": {
   "codemirror_mode": {
    "name": "ipython",
    "version": 2
   },
   "file_extension": ".py",
   "mimetype": "text/x-python",
   "name": "python",
   "nbconvert_exporter": "python",
   "pygments_lexer": "ipython2",
   "version": "2.7.6"
  }
 },
 "nbformat": 4,
 "nbformat_minor": 0
}
