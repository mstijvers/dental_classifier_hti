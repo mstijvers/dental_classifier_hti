{
 "cells": [
  {
   "cell_type": "code",
   "execution_count": 1,
   "id": "initial_id",
   "metadata": {
    "collapsed": true,
    "ExecuteTime": {
     "end_time": "2023-09-29T08:33:43.284115Z",
     "start_time": "2023-09-29T08:33:27.627210Z"
    }
   },
   "outputs": [
    {
     "ename": "error",
     "evalue": "OpenCV(4.8.1) /Users/xperience/GHA-OpenCV-Python/_work/opencv-python/opencv-python/opencv/modules/imgproc/src/color.cpp:182: error: (-215:Assertion failed) !_src.empty() in function 'cvtColor'\n",
     "output_type": "error",
     "traceback": [
      "\u001B[0;31m---------------------------------------------------------------------------\u001B[0m",
      "\u001B[0;31merror\u001B[0m                                     Traceback (most recent call last)",
      "Cell \u001B[0;32mIn[1], line 25\u001B[0m\n\u001B[1;32m     22\u001B[0m ret, frame \u001B[38;5;241m=\u001B[39m cap\u001B[38;5;241m.\u001B[39mread()\n\u001B[1;32m     24\u001B[0m \u001B[38;5;66;03m# Convert the frame to grayscale for face detection\u001B[39;00m\n\u001B[0;32m---> 25\u001B[0m gray \u001B[38;5;241m=\u001B[39m \u001B[43mcv2\u001B[49m\u001B[38;5;241;43m.\u001B[39;49m\u001B[43mcvtColor\u001B[49m\u001B[43m(\u001B[49m\u001B[43mframe\u001B[49m\u001B[43m,\u001B[49m\u001B[43m \u001B[49m\u001B[43mcv2\u001B[49m\u001B[38;5;241;43m.\u001B[39;49m\u001B[43mCOLOR_BGR2GRAY\u001B[49m\u001B[43m)\u001B[49m\n\u001B[1;32m     27\u001B[0m \u001B[38;5;66;03m# Detect faces in the grayscale frame\u001B[39;00m\n\u001B[1;32m     28\u001B[0m faces \u001B[38;5;241m=\u001B[39m face_detector(gray)\n",
      "\u001B[0;31merror\u001B[0m: OpenCV(4.8.1) /Users/xperience/GHA-OpenCV-Python/_work/opencv-python/opencv-python/opencv/modules/imgproc/src/color.cpp:182: error: (-215:Assertion failed) !_src.empty() in function 'cvtColor'\n"
     ]
    }
   ],
   "source": [
    "import cv2\n",
    "import dlib\n",
    "import numpy as np\n",
    "import time\n",
    "\n",
    "# Load the face detector and shape predictor\n",
    "face_detector = dlib.get_frontal_face_detector()\n",
    "shape_predictor = dlib.shape_predictor('shape_predictor_68_face_landmarks.dat')  # You will need to download this model\n",
    "\n",
    "# Initialize variables for stability tracking\n",
    "stable_count = 0\n",
    "stable_duration = 4  # Number of seconds to consider stable\n",
    "prev_bbox = None\n",
    "\n",
    "# Initialize the webcam\n",
    "cap = cv2.VideoCapture(0) \n",
    "# Read the image\n",
    "#img = cv2.imread('marijn_smile.jpg')\n",
    "#gray = cv2.cvtColor(img, cv2.COLOR_BGR2GRAY)\n",
    "\n",
    "while True:\n",
    "    ret, frame = cap.read()\n",
    "    \n",
    "    # Convert the frame to grayscale for face detection\n",
    "    gray = cv2.cvtColor(frame, cv2.COLOR_BGR2GRAY)\n",
    "    \n",
    "    # Detect faces in the grayscale frame\n",
    "    faces = face_detector(gray)\n",
    "    \n",
    "    for face in faces:\n",
    "        landmarks = shape_predictor(gray, face)\n",
    "        \n",
    "        # Extract mouth landmarks\n",
    "        mouth_landmarks = []\n",
    "        for i in range(48, 68):  # Mouth landmarks are indexed from 48 to 67 in dlib\n",
    "            x, y = landmarks.part(i).x, landmarks.part(i).y\n",
    "            mouth_landmarks.append((x, y))\n",
    "        \n",
    "        # Calculate the bounding box around the mouth\n",
    "        min_x = min(mouth_landmarks, key=lambda x: x[0])[0]\n",
    "        max_x = max(mouth_landmarks, key=lambda x: x[0])[0]\n",
    "        min_y = min(mouth_landmarks, key=lambda x: x[1])[1]\n",
    "        max_y = max(mouth_landmarks, key=lambda x: x[1])[1]\n",
    "        \n",
    "        if max_x - min_x >= 224 and max_y - min_y >= 224:\n",
    "            # Draw the bounding box around the mouth\n",
    "            cv2.rectangle(frame, (min_x, min_y), (max_x, max_y), (255, 255, 255), 2)\n",
    "\n",
    "            # Check if the bounding box is relatively stable for 5 seconds\n",
    "            if prev_bbox is None:\n",
    "                prev_bbox = (min_x, max_x, min_y, max_y)\n",
    "            else:\n",
    "                if (\n",
    "                    abs(prev_bbox[0] - min_x) < 10 and\n",
    "                    abs(prev_bbox[1] - max_x) < 10 and\n",
    "                    abs(prev_bbox[2] - min_y) < 10 and\n",
    "                    abs(prev_bbox[3] - max_y) < 10\n",
    "                ):\n",
    "                    stable_count += 1\n",
    "                    if stable_count >= stable_duration:\n",
    "                        # Save a picture of the stable bounding box\n",
    "                        cv2.imwrite('mouth_bounding_box.jpg', frame)\n",
    "                        # Release the webcam and close all OpenCV windows\n",
    "                        cap.release()\n",
    "                        cv2.destroyAllWindows()\n",
    "                        picture = cv2.imread('mouth_bounding_box.jpg')\n",
    "                        # Crop the image to the bounding box    \n",
    "                        cropped_teeth = picture[min_y:max_y, min_x:max_x]\n",
    "                        # Save the cropped image\n",
    "                        cv2.imwrite('cropped_mouth.jpg', cropped_teeth)\n",
    "                else:\n",
    "                    stable_count = 0\n",
    "                prev_bbox = (min_x, max_x, min_y, max_y)\n",
    "        else:\n",
    "            # Display a message to \"come closer to the webcam\"\n",
    "            cv2.putText(frame, \"Come closer to the webcam\", (30, 30), cv2.FONT_HERSHEY_SIMPLEX, 1, (255, 255, 255), 2)\n",
    "\n",
    "    cv2.imshow('Mouth Bounding Box', frame)\n",
    "    \n",
    "    if cv2.waitKey(1) & 0xFF == ord('q'):\n",
    "        break\n",
    "        \n",
    "\n",
    "\n",
    "\n",
    "#cv2.imshow('image', img)\n",
    "#cv2.waitKey(0)\n",
    "#cv2.destroyAllWindows()\n",
    "\n"
   ]
  },
  {
   "cell_type": "code",
   "execution_count": null,
   "outputs": [],
   "source": [],
   "metadata": {
    "collapsed": false,
    "ExecuteTime": {
     "end_time": "2023-09-29T07:47:55.647722Z",
     "start_time": "2023-09-29T07:47:55.644545Z"
    }
   },
   "id": "cbdf5a3c3c87aa27"
  },
  {
   "cell_type": "code",
   "execution_count": null,
   "outputs": [],
   "source": [],
   "metadata": {
    "collapsed": false
   },
   "id": "58872e139ad5d6a0"
  }
 ],
 "metadata": {
  "kernelspec": {
   "display_name": "Python 3",
   "language": "python",
   "name": "python3"
  },
  "language_info": {
   "codemirror_mode": {
    "name": "ipython",
    "version": 2
   },
   "file_extension": ".py",
   "mimetype": "text/x-python",
   "name": "python",
   "nbconvert_exporter": "python",
   "pygments_lexer": "ipython2",
   "version": "2.7.6"
  }
 },
 "nbformat": 4,
 "nbformat_minor": 5
}
